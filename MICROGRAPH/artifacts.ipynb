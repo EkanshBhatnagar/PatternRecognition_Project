{
 "cells": [
  {
   "cell_type": "markdown",
   "id": "670aeca1-a613-4ba0-9639-2a6bbb3bd7e1",
   "metadata": {},
   "source": [
    "# Exploring Pattern Recognition Techniques for Few Samples : Enhancing SVMs with CNN-Inspired Features"
   ]
  },
  {
   "cell_type": "markdown",
   "id": "920c8123-9b42-46b3-9344-de2def5bba43",
   "metadata": {},
   "source": [
    "## Artifacts and Code\n",
    "Code below implements following:\n",
    "- Prepares micrograph images for training.\n",
    "- Trains RESNET50 on [100,200,500] samples.\n",
    "- Evaluates RESNET50 with 500 samples."
   ]
  },
  {
   "cell_type": "code",
   "execution_count": null,
   "id": "79671012-2176-4127-8f52-102fb6fac315",
   "metadata": {},
   "outputs": [
    {
     "name": "stderr",
     "output_type": "stream",
     "text": [
      "C:\\Users\\ekans\\AppData\\Local\\Temp\\ipykernel_13928\\2164967663.py:9: TqdmWarning: IProgress not found. Please update jupyter and ipywidgets. See https://ipywidgets.readthedocs.io/en/stable/user_install.html\n",
      "  from tqdm.autonotebook import tqdm\n"
     ]
    },
    {
     "name": "stdout",
     "output_type": "stream",
     "text": [
      "Epoch 1/10\n"
     ]
    },
    {
     "name": "stderr",
     "output_type": "stream",
     "text": [
      "D:\\pattern_recognition\\TI-SVM\\.venv\\lib\\site-packages\\keras\\src\\models\\functional.py:238: UserWarning: The structure of `inputs` doesn't match the expected structure.\n",
      "Expected: ['keras_tensor']\n",
      "Received: inputs=Tensor(shape=(16, 224, 224, 3))\n",
      "  warnings.warn(msg)\n"
     ]
    }
   ],
   "source": [
    "import numpy as np\n",
    "import time\n",
    "from Model import SVM, TISVM, RISVM, LOCSVM, LTISVM, LRISVM, TIRISVM, LTIRISVM, RIISVM, KNN, TDSVM, ResNetModel\n",
    "from DataLoader import load_data, train_valid_split\n",
    "import ctypes\n",
    "import torch\n",
    "import pytorch_lightning as pl\n",
    "import torch.utils.data as data_utils\n",
    "from tqdm.autonotebook import tqdm\n",
    "from sklearn.metrics import accuracy_score\n",
    "import pandas as pd\n",
    "from tensorflow.keras.preprocessing.image import load_img, img_to_array\n",
    "import os\n",
    "from sklearn.preprocessing import LabelEncoder\n",
    "from tensorflow.keras.utils import to_categorical\n",
    "from tensorflow.keras.applications import ResNet50\n",
    "from tensorflow.keras.layers import Dense, GlobalAveragePooling2D, Input\n",
    "from tensorflow.keras.models import Model\n",
    "\n",
    "# Preprocess images\n",
    "def preprocess_images(image_paths):\n",
    "    images = []\n",
    "    for img_path in image_paths:\n",
    "        full_path = os.path.join(image_dir, img_path)\n",
    "        img = load_img(full_path, target_size=(224, 224))\n",
    "        img_array = img_to_array(img)\n",
    "        images.append(img_array)\n",
    "    return np.array(images)\n",
    "    \n",
    "def preprocess_images_svm(image_paths):\n",
    "    images = []\n",
    "    for img_path in image_paths:\n",
    "        full_path = os.path.join(image_dir, img_path)\n",
    "        img = load_img(full_path, target_size=(224, 224))  # Resize for simplicity\n",
    "        img_array = img_to_array(img)\n",
    "        img_array = img_array.flatten() / 255.0  # Flatten and normalize\n",
    "        images.append(img_array)\n",
    "    return np.array(images)\n",
    "\n",
    "# Load the CSV file\n",
    "file_path = 'micrograph.csv'\n",
    "df = pd.read_csv(file_path)\n",
    "\n",
    "samples_num = [100, 200, 400]\n",
    "results = open(\"result.txt\",\"w\",buffering=1)\n",
    "results.write(\"model,number_of_samples,test_accuracy\\n\")\n",
    "\n",
    "for num in samples_num:\n",
    "    # Select the first 100 entries\n",
    "    subset_df = df[['path', 'primary_microconstituent']].head(num)\n",
    "\n",
    "    # Get the lists of image paths and labels from the sample\n",
    "    sample_image_paths = subset_df['path'].tolist()\n",
    "    sample_labels = subset_df['primary_microconstituent'].tolist()\n",
    "\n",
    "    test_set_df = df[['path', 'primary_microconstituent']].iloc[num:num+500]\n",
    "    test_image_paths = test_set_df['path'].tolist()\n",
    "    test_labels = test_set_df['primary_microconstituent'].tolist()\n",
    "\n",
    "    # Define image directory\n",
    "    image_dir = 'images/'\n",
    "\n",
    "    X = preprocess_images(sample_image_paths)\n",
    "    X_test = preprocess_images(test_image_paths)\n",
    "\n",
    "\n",
    "    # Encode labels\n",
    "    label_encoder = LabelEncoder()\n",
    "    label_encoder.fit(df['primary_microconstituent'])\n",
    "    y_encoded = label_encoder.transform(sample_labels)\n",
    "    y_test_encoded = label_encoder.transform(test_labels)\n",
    "\n",
    "    # One-hot encode labels\n",
    "    y_categorical = to_categorical(y_encoded)\n",
    "    y_test_categorical = to_categorical(y_test_encoded)\n",
    "    input_tensor = Input(shape=(224, 224, 3))\n",
    "\n",
    "    base_model = ResNet50(weights=None, include_top=False, input_tensor=input_tensor)\n",
    "\n",
    "    x = base_model.output\n",
    "    x = GlobalAveragePooling2D()(x)\n",
    "\n",
    "    # Adjust the number of classes according to your dataset\n",
    "    num_classes = len(label_encoder.classes_)\n",
    "    predictions = Dense(num_classes, activation='softmax')(x)\n",
    "    model = Model(inputs=base_model.input, outputs=predictions)\n",
    "    model.compile(optimizer='adam', loss='categorical_crossentropy', metrics=['accuracy'])\n",
    "    model.fit(X, y_categorical, batch_size=16, epochs=10, validation_split=0.2)\n",
    "    loss, accuracy = model.evaluate(X_test, y_test_categorical)\n",
    "\n",
    "    print(\"RESNET50:\")\n",
    "    print(f'Test Accuracy with {num} samples: {accuracy * 100:.2f}%')\n",
    "    results.write(\"RESNET50,{num},{accuracy * 100:.2f}$\\n\")\n",
    "\n",
    "    X = preprocess_images_svm(sample_image_paths)\n",
    "    X_test = preprocess_images_svm(test_image_paths)\n",
    "    # Encode labels\n",
    "    label_encoder = LabelEncoder()\n",
    "    label_encoder.fit(df['primary_microconstituent'])\n",
    "    y_encoded = label_encoder.transform(sample_labels)\n",
    "    y_test_encoded = label_encoder.transform(test_labels)\n",
    "    \n",
    "    # One-hot encode labels\n",
    "    y_categorical = to_categorical(y_encoded)\n",
    "    y_test_categorical = to_categorical(y_test_encoded)\n",
    "    \n",
    "    time1 = time.time()\n",
    "    model = SVM(degree=8)\n",
    "    svclassifier, train_acc = model.train(X, y_encoded)\n",
    "    #eval_acc = model.evaluate(x_valid[0:val_list[idx], :], y_valid[0:val_list[idx]], svclassifier)\n",
    "    test_acc = model.evaluate(X_test, y_test_encoded, svclassifier)\n",
    "    time2 = time.time()\n",
    "    print('SVM with polynomial kernel (degree=8):')\n",
    "    print(f'Test Accuracy with {num} samples: {test_acc * 100:.2f}%')\n",
    "    results.write(\"SVM with polynomial kernel (degree=8),{num},{test_acc * 100:.2f}$\\n\")\n",
    "    "
   ]
  },
  {
   "cell_type": "code",
   "execution_count": null,
   "id": "9f76a049-f2d2-4052-abda-0d18dfae6eaf",
   "metadata": {},
   "outputs": [],
   "source": []
  }
 ],
 "metadata": {
  "kernelspec": {
   "display_name": "Python 3 (ipykernel)",
   "language": "python",
   "name": "python3"
  },
  "language_info": {
   "codemirror_mode": {
    "name": "ipython",
    "version": 3
   },
   "file_extension": ".py",
   "mimetype": "text/x-python",
   "name": "python",
   "nbconvert_exporter": "python",
   "pygments_lexer": "ipython3",
   "version": "3.10.2"
  }
 },
 "nbformat": 4,
 "nbformat_minor": 5
}
